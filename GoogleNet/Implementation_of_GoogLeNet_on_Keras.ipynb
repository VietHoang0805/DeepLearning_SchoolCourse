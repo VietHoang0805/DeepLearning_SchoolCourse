{
  "cells": [
    {
      "cell_type": "markdown",
      "metadata": {
        "colab_type": "text",
        "id": "view-in-github"
      },
      "source": [
        "<a href=\"https://colab.research.google.com/github/KhuyenLE-maths/Implementation-of-GoogLeNet-on-Keras/blob/main/Implementation_of_GoogLeNet_on_Keras.ipynb\" target=\"_parent\"><img src=\"https://colab.research.google.com/assets/colab-badge.svg\" alt=\"Open In Colab\"/></a>"
      ]
    },
    {
      "cell_type": "markdown",
      "metadata": {
        "id": "yDtztTExgs4R"
      },
      "source": [
        "# I. Giới thiệu\n",
        "GoogLeNet là một mạng nơ-ron tích chập sâu được đề xuất bởi [Szegedy và các cộng sự.](https://www.cv-foundation.org/openaccess/content_cvpr_2015/html/Szegedy_Going_Deeper_With_2015_CVPR_paper.html) . Mạng này đã giành chiến thắng trong Thử thách nhận dạng hình ảnh quy mô lớn ImageNet 2014 (ILSVRC-2014) với hiệu suất phân loại đạt 92,3%. Đặc biệt, mô hình này được thiết kế theo kiến trúc đặc biệt cho phép tăng độ sâu và chiều rộng của mạng nhưng vẫn giữ nguyên tài nguyên tính toán.\n",
        "\n",
        "Mô hình VGG có tổng cộng 22 lớp và bao gồm 9 khối Inception. Mỗi khối Inception bao gồm bốn đường dẫn song song mà tại đó các lớp tích chập với các kích thước kernel khác nhau:\n",
        "- Đường dẫn đầu tiên sử dụng một lớp tích chập với kích thước là 1 × 1.\n",
        "- Trong đường dẫn thứ hai và thứ ba, một lớp tích chập có kích thước 1 × 1 được sử dụng trước khi đi qua lớp 3 × 3 và 5 × 5. Lớp tích chập 1 × 1 giúp giảm số kênh bộ lọc, do đó giảm độ phức tạp của mô hình.\n",
        "- Đường dẫn thứ tư sử dụng một lớp max-pooling để giảm độ phân giải của đầu vào và tiếp theo là một lớp tích chập 1 × 1 để giảm chiều.\n",
        "\n",
        "Bốn đường dẫn này sử dụng phần đệm thích hợp để đầu vào và đầu ra có cùng kích thước. Việc concat bốn đường dẫn này cho phép quét đầu vào ở các độ phân giải khác nhau. Đặc biệt, độ phức tạp của mô hình được giảm thiểu nhờ áp dụng lớp tích chập 1 × 1 trong mỗi đường dẫn.\n"
      ]
    },
    {
      "cell_type": "markdown",
      "metadata": {},
      "source": [
        "![title](Image/InceptionBlock.png)"
      ]
    },
    {
      "cell_type": "markdown",
      "metadata": {
        "id": "bsG0GHAH4zrQ"
      },
      "source": [
        "Có thể tóm tắt như sau:\n",
        "- Kích thước hình ảnh đầu vào là 224 × 224.\n",
        "- Có chín khối Inception trong mạng này.\n",
        "- Có bốn lớp max-pooling bên ngoài các khối Inception, trong đó có hai lớp nằm giữa các khối 3–4 và khối 7–8. Các lớp max-pooling này giúp giảm kích thước của dữ liệu đầu vào, do đó giảm độ phức tạp của mô hình cũng như chi phí tính toán.\n",
        "- Mạng này kế thừa ý tưởng sử dụng lớp pooling trung bình từ NiN, giúp cải thiện hiệu suất mô hình và giảm hiện tượng overfitting.\n",
        "- Một lớp dropout (với 40%) được sử dụng trước lớp linear. Đây cũng là một phương pháp regularization hiệu quả để giảm hiện tượng overfitting.\n",
        "- Lớp đầu ra sử dụng hàm kích hoạt softmax để đưa ra 1000 đầu ra tương ứng với số lượng danh mục trong tập dữ liệu ImageNet.\n",
        "\n",
        "\n",
        "Ngoài ra, một số mạng bổ sung được thêm vào bên cạnh, giúp khuyến khích sự phân biệt ở các giai đoạn thấp hơn trong bộ phân loại, tăng tín hiệu gradient nhận được backpropagation và cung cấp regularization bổ sung. Cấu trúc của các mạng này bao gồm:\n",
        "- Một lớp pooling trung bình với kích thước pooling là 5 × 5 và stride là 3.\n",
        "- Một lớp tích chập 1 × 1 với 128 bộ lọc để giảm chiều và kích hoạt RELU.\n",
        "- Một lớp fully connected với 1024 units và kích hoạt RELU.\n",
        "- Một dropout với tỷ lệ 70% đầu ra.\n",
        "- Một lớp đầu ra sử dụng hàm kích hoạt softmax để phân loại đối tượng thành một trong 1000 classes.\n",
        "\n"
      ]
    },
    {
      "cell_type": "markdown",
      "metadata": {},
      "source": [
        "![title](Image/TableStructure.png)"
      ]
    },
    {
      "cell_type": "markdown",
      "metadata": {
        "id": "AurWMjf8gxAK"
      },
      "source": [
        "# II. Triển khai GoogLeNet trên Keras"
      ]
    },
    {
      "cell_type": "markdown",
      "metadata": {
        "id": "rFk1Ay7k5U6d"
      },
      "source": [
        "Đầu tiên chúng ta cần import một số thư viện:"
      ]
    },
    {
      "cell_type": "code",
      "execution_count": 3,
      "metadata": {
        "id": "mxzpBd1Ag1n1"
      },
      "outputs": [],
      "source": [
        "from keras.models import Model\n",
        "from keras.layers import Input, Conv2D, MaxPooling2D, AveragePooling2D, Flatten, GlobalAveragePooling2D, Dense, Dropout\n",
        "from keras.layers import concatenate"
      ]
    },
    {
      "cell_type": "markdown",
      "metadata": {
        "id": "uXvWQyDY5Xkw"
      },
      "source": [
        "Tạo một Inception block "
      ]
    },
    {
      "cell_type": "code",
      "execution_count": 4,
      "metadata": {
        "id": "Z67lqDqEg1pz"
      },
      "outputs": [],
      "source": [
        "def Inception_block(input_layer, f1, f2_conv1, f2_conv3, f3_conv1, f3_conv5, f4): \n",
        "  # Input: \n",
        "  # - f1: số lượng bộ lọc của lớp tích chập 1x1 trong đường dẫn đầu tiên\n",
        "  # - f2_conv1, f2_conv3 là số lượng bộ lọc tương ứng với các lớp tích chập 1x1 và 3x3 trong đường dẫn thứ hai\n",
        "  # - f3_conv1, f3_conv5 là số lượng bộ lọc tương ứng với lớp tích chập 1x1 và 5x5 trong đường dẫn thứ ba\n",
        "  # - f4: số lượng bộ lọc của lớp tích chập 1x1 trong đường dẫn thứ tư\n",
        "\n",
        "  # 1st path:\n",
        "  path1 = Conv2D(filters=f1, kernel_size = (1,1), padding = 'same', activation = 'relu')(input_layer)\n",
        "\n",
        "  # 2nd path\n",
        "  path2 = Conv2D(filters = f2_conv1, kernel_size = (1,1), padding = 'same', activation = 'relu')(input_layer)\n",
        "  path2 = Conv2D(filters = f2_conv3, kernel_size = (3,3), padding = 'same', activation = 'relu')(path2)\n",
        "\n",
        "  # 3rd path\n",
        "  path3 = Conv2D(filters = f3_conv1, kernel_size = (1,1), padding = 'same', activation = 'relu')(input_layer)\n",
        "  path3 = Conv2D(filters = f3_conv5, kernel_size = (5,5), padding = 'same', activation = 'relu')(path3)\n",
        "\n",
        "  # 4th path\n",
        "  path4 = MaxPooling2D((3,3), strides= (1,1), padding = 'same')(input_layer)\n",
        "  path4 = Conv2D(filters = f4, kernel_size = (1,1), padding = 'same', activation = 'relu')(path4)\n",
        "\n",
        "  output_layer = concatenate([path1, path2, path3, path4], axis = -1)\n",
        "\n",
        "  return output_layer\n"
      ]
    },
    {
      "cell_type": "markdown",
      "metadata": {
        "id": "Z_YdLtJ75dou"
      },
      "source": [
        "Hàm để triển khai mô hình GoogLeNet:"
      ]
    },
    {
      "cell_type": "code",
      "execution_count": 5,
      "metadata": {
        "id": "Zw9oBMMfgbgx"
      },
      "outputs": [],
      "source": [
        "def GoogLeNet():\n",
        "  # input layer \n",
        "  input_layer = Input(shape = (224, 224, 3))\n",
        "\n",
        "  # convolutional layer: filters = 64, kernel_size = (7,7), strides = 2\n",
        "  X = Conv2D(filters = 64, kernel_size = (7,7), strides = 2, padding = 'valid', activation = 'relu')(input_layer)\n",
        "\n",
        "  # max-pooling layer: pool_size = (3,3), strides = 2\n",
        "  X = MaxPooling2D(pool_size = (3,3), strides = 2)(X)\n",
        "\n",
        "  # convolutional layer: filters = 64, strides = 1\n",
        "  X = Conv2D(filters = 64, kernel_size = (1,1), strides = 1, padding = 'same', activation = 'relu')(X)\n",
        "\n",
        "  # convolutional layer: filters = 192, kernel_size = (3,3)\n",
        "  X = Conv2D(filters = 192, kernel_size = (3,3), padding = 'same', activation = 'relu')(X)\n",
        "\n",
        "  # max-pooling layer: pool_size = (3,3), strides = 2\n",
        "  X = MaxPooling2D(pool_size= (3,3), strides = 2)(X)\n",
        "\n",
        "  # 1st Inception block\n",
        "  X = Inception_block(X, f1 = 64, f2_conv1 = 96, f2_conv3 = 128, f3_conv1 = 16, f3_conv5 = 32, f4 = 32)\n",
        "\n",
        "  # 2nd Inception block\n",
        "  X = Inception_block(X, f1 = 128, f2_conv1 = 128, f2_conv3 = 192, f3_conv1 = 32, f3_conv5 = 96, f4 = 64)\n",
        "\n",
        "  # max-pooling layer: pool_size = (3,3), strides = 2\n",
        "  X = MaxPooling2D(pool_size= (3,3), strides = 2)(X)\n",
        "\n",
        "  # 3rd Inception block\n",
        "  X = Inception_block(X, f1 = 192, f2_conv1 = 96, f2_conv3 = 208, f3_conv1 = 16, f3_conv5 = 48, f4 = 64)\n",
        "\n",
        "  # Extra network 1:\n",
        "  X1 = AveragePooling2D(pool_size = (5,5), strides = 3)(X)\n",
        "  X1 = Conv2D(filters = 128, kernel_size = (1,1), padding = 'same', activation = 'relu')(X1)\n",
        "  X1 = Flatten()(X1)\n",
        "  X1 = Dense(1024, activation = 'relu')(X1)\n",
        "  X1 = Dropout(0.7)(X1)\n",
        "  X1 = Dense(5, activation = 'softmax')(X1)\n",
        "\n",
        "  \n",
        "  # 4th Inception block\n",
        "  X = Inception_block(X, f1 = 160, f2_conv1 = 112, f2_conv3 = 224, f3_conv1 = 24, f3_conv5 = 64, f4 = 64)\n",
        "\n",
        "  # 5th Inception block\n",
        "  X = Inception_block(X, f1 = 128, f2_conv1 = 128, f2_conv3 = 256, f3_conv1 = 24, f3_conv5 = 64, f4 = 64)\n",
        "\n",
        "  # 6th Inception block\n",
        "  X = Inception_block(X, f1 = 112, f2_conv1 = 144, f2_conv3 = 288, f3_conv1 = 32, f3_conv5 = 64, f4 = 64)\n",
        "\n",
        "  # Extra network 2:\n",
        "  X2 = AveragePooling2D(pool_size = (5,5), strides = 3)(X)\n",
        "  X2 = Conv2D(filters = 128, kernel_size = (1,1), padding = 'same', activation = 'relu')(X2)\n",
        "  X2 = Flatten()(X2)\n",
        "  X2 = Dense(1024, activation = 'relu')(X2)\n",
        "  X2 = Dropout(0.7)(X2)\n",
        "  X2 = Dense(1000, activation = 'softmax')(X2)\n",
        "  \n",
        "  \n",
        "  # 7th Inception block\n",
        "  X = Inception_block(X, f1 = 256, f2_conv1 = 160, f2_conv3 = 320, f3_conv1 = 32, \n",
        "                      f3_conv5 = 128, f4 = 128)\n",
        "\n",
        "  # max-pooling layer: pool_size = (3,3), strides = 2\n",
        "  X = MaxPooling2D(pool_size = (3,3), strides = 2)(X)\n",
        "\n",
        "  # 8th Inception block\n",
        "  X = Inception_block(X, f1 = 256, f2_conv1 = 160, f2_conv3 = 320, f3_conv1 = 32, f3_conv5 = 128, f4 = 128)\n",
        "\n",
        "  # 9th Inception block\n",
        "  X = Inception_block(X, f1 = 384, f2_conv1 = 192, f2_conv3 = 384, f3_conv1 = 48, f3_conv5 = 128, f4 = 128)\n",
        "\n",
        "  # Global Average pooling layer \n",
        "  X = GlobalAveragePooling2D(name = 'GAPL')(X)\n",
        "\n",
        "  # Dropoutlayer \n",
        "  X = Dropout(0.4)(X)\n",
        "\n",
        "  # output layer \n",
        "  X = Dense(1000, activation = 'softmax')(X)\n",
        "  \n",
        "  # model\n",
        "  model = Model(input_layer, [X, X1, X2], name = 'GoogLeNet')\n",
        "\n",
        "  return model"
      ]
    },
    {
      "cell_type": "code",
      "execution_count": 6,
      "metadata": {
        "id": "56-0AEVhgbis"
      },
      "outputs": [],
      "source": [
        "model = GoogLeNet()"
      ]
    },
    {
      "cell_type": "code",
      "execution_count": 7,
      "metadata": {
        "colab": {
          "base_uri": "https://localhost:8080/"
        },
        "id": "fGsEhyLhgbk1",
        "outputId": "6a5a8ffd-2315-4ee9-87b2-632d02f1abb0"
      },
      "outputs": [
        {
          "name": "stdout",
          "output_type": "stream",
          "text": [
            "Model: \"GoogLeNet\"\n",
            "__________________________________________________________________________________________________\n",
            " Layer (type)                   Output Shape         Param #     Connected to                     \n",
            "==================================================================================================\n",
            " input_1 (InputLayer)           [(None, 224, 224, 3  0           []                               \n",
            "                                )]                                                                \n",
            "                                                                                                  \n",
            " conv2d (Conv2D)                (None, 109, 109, 64  9472        ['input_1[0][0]']                \n",
            "                                )                                                                 \n",
            "                                                                                                  \n",
            " max_pooling2d (MaxPooling2D)   (None, 54, 54, 64)   0           ['conv2d[0][0]']                 \n",
            "                                                                                                  \n",
            " conv2d_1 (Conv2D)              (None, 54, 54, 64)   4160        ['max_pooling2d[0][0]']          \n",
            "                                                                                                  \n",
            " conv2d_2 (Conv2D)              (None, 54, 54, 192)  110784      ['conv2d_1[0][0]']               \n",
            "                                                                                                  \n",
            " max_pooling2d_1 (MaxPooling2D)  (None, 26, 26, 192)  0          ['conv2d_2[0][0]']               \n",
            "                                                                                                  \n",
            " conv2d_4 (Conv2D)              (None, 26, 26, 96)   18528       ['max_pooling2d_1[0][0]']        \n",
            "                                                                                                  \n",
            " conv2d_6 (Conv2D)              (None, 26, 26, 16)   3088        ['max_pooling2d_1[0][0]']        \n",
            "                                                                                                  \n",
            " max_pooling2d_2 (MaxPooling2D)  (None, 26, 26, 192)  0          ['max_pooling2d_1[0][0]']        \n",
            "                                                                                                  \n",
            " conv2d_3 (Conv2D)              (None, 26, 26, 64)   12352       ['max_pooling2d_1[0][0]']        \n",
            "                                                                                                  \n",
            " conv2d_5 (Conv2D)              (None, 26, 26, 128)  110720      ['conv2d_4[0][0]']               \n",
            "                                                                                                  \n",
            " conv2d_7 (Conv2D)              (None, 26, 26, 32)   12832       ['conv2d_6[0][0]']               \n",
            "                                                                                                  \n",
            " conv2d_8 (Conv2D)              (None, 26, 26, 32)   6176        ['max_pooling2d_2[0][0]']        \n",
            "                                                                                                  \n",
            " concatenate (Concatenate)      (None, 26, 26, 256)  0           ['conv2d_3[0][0]',               \n",
            "                                                                  'conv2d_5[0][0]',               \n",
            "                                                                  'conv2d_7[0][0]',               \n",
            "                                                                  'conv2d_8[0][0]']               \n",
            "                                                                                                  \n",
            " conv2d_10 (Conv2D)             (None, 26, 26, 128)  32896       ['concatenate[0][0]']            \n",
            "                                                                                                  \n",
            " conv2d_12 (Conv2D)             (None, 26, 26, 32)   8224        ['concatenate[0][0]']            \n",
            "                                                                                                  \n",
            " max_pooling2d_3 (MaxPooling2D)  (None, 26, 26, 256)  0          ['concatenate[0][0]']            \n",
            "                                                                                                  \n",
            " conv2d_9 (Conv2D)              (None, 26, 26, 128)  32896       ['concatenate[0][0]']            \n",
            "                                                                                                  \n",
            " conv2d_11 (Conv2D)             (None, 26, 26, 192)  221376      ['conv2d_10[0][0]']              \n",
            "                                                                                                  \n",
            " conv2d_13 (Conv2D)             (None, 26, 26, 96)   76896       ['conv2d_12[0][0]']              \n",
            "                                                                                                  \n",
            " conv2d_14 (Conv2D)             (None, 26, 26, 64)   16448       ['max_pooling2d_3[0][0]']        \n",
            "                                                                                                  \n",
            " concatenate_1 (Concatenate)    (None, 26, 26, 480)  0           ['conv2d_9[0][0]',               \n",
            "                                                                  'conv2d_11[0][0]',              \n",
            "                                                                  'conv2d_13[0][0]',              \n",
            "                                                                  'conv2d_14[0][0]']              \n",
            "                                                                                                  \n",
            " max_pooling2d_4 (MaxPooling2D)  (None, 12, 12, 480)  0          ['concatenate_1[0][0]']          \n",
            "                                                                                                  \n",
            " conv2d_16 (Conv2D)             (None, 12, 12, 96)   46176       ['max_pooling2d_4[0][0]']        \n",
            "                                                                                                  \n",
            " conv2d_18 (Conv2D)             (None, 12, 12, 16)   7696        ['max_pooling2d_4[0][0]']        \n",
            "                                                                                                  \n",
            " max_pooling2d_5 (MaxPooling2D)  (None, 12, 12, 480)  0          ['max_pooling2d_4[0][0]']        \n",
            "                                                                                                  \n",
            " conv2d_15 (Conv2D)             (None, 12, 12, 192)  92352       ['max_pooling2d_4[0][0]']        \n",
            "                                                                                                  \n",
            " conv2d_17 (Conv2D)             (None, 12, 12, 208)  179920      ['conv2d_16[0][0]']              \n",
            "                                                                                                  \n",
            " conv2d_19 (Conv2D)             (None, 12, 12, 48)   19248       ['conv2d_18[0][0]']              \n",
            "                                                                                                  \n",
            " conv2d_20 (Conv2D)             (None, 12, 12, 64)   30784       ['max_pooling2d_5[0][0]']        \n",
            "                                                                                                  \n",
            " concatenate_2 (Concatenate)    (None, 12, 12, 512)  0           ['conv2d_15[0][0]',              \n",
            "                                                                  'conv2d_17[0][0]',              \n",
            "                                                                  'conv2d_19[0][0]',              \n",
            "                                                                  'conv2d_20[0][0]']              \n",
            "                                                                                                  \n",
            " conv2d_23 (Conv2D)             (None, 12, 12, 112)  57456       ['concatenate_2[0][0]']          \n",
            "                                                                                                  \n",
            " conv2d_25 (Conv2D)             (None, 12, 12, 24)   12312       ['concatenate_2[0][0]']          \n",
            "                                                                                                  \n",
            " max_pooling2d_6 (MaxPooling2D)  (None, 12, 12, 512)  0          ['concatenate_2[0][0]']          \n",
            "                                                                                                  \n",
            " conv2d_22 (Conv2D)             (None, 12, 12, 160)  82080       ['concatenate_2[0][0]']          \n",
            "                                                                                                  \n",
            " conv2d_24 (Conv2D)             (None, 12, 12, 224)  226016      ['conv2d_23[0][0]']              \n",
            "                                                                                                  \n",
            " conv2d_26 (Conv2D)             (None, 12, 12, 64)   38464       ['conv2d_25[0][0]']              \n",
            "                                                                                                  \n",
            " conv2d_27 (Conv2D)             (None, 12, 12, 64)   32832       ['max_pooling2d_6[0][0]']        \n",
            "                                                                                                  \n",
            " concatenate_3 (Concatenate)    (None, 12, 12, 512)  0           ['conv2d_22[0][0]',              \n",
            "                                                                  'conv2d_24[0][0]',              \n",
            "                                                                  'conv2d_26[0][0]',              \n",
            "                                                                  'conv2d_27[0][0]']              \n",
            "                                                                                                  \n",
            " conv2d_29 (Conv2D)             (None, 12, 12, 128)  65664       ['concatenate_3[0][0]']          \n",
            "                                                                                                  \n",
            " conv2d_31 (Conv2D)             (None, 12, 12, 24)   12312       ['concatenate_3[0][0]']          \n",
            "                                                                                                  \n",
            " max_pooling2d_7 (MaxPooling2D)  (None, 12, 12, 512)  0          ['concatenate_3[0][0]']          \n",
            "                                                                                                  \n",
            " conv2d_28 (Conv2D)             (None, 12, 12, 128)  65664       ['concatenate_3[0][0]']          \n",
            "                                                                                                  \n",
            " conv2d_30 (Conv2D)             (None, 12, 12, 256)  295168      ['conv2d_29[0][0]']              \n",
            "                                                                                                  \n",
            " conv2d_32 (Conv2D)             (None, 12, 12, 64)   38464       ['conv2d_31[0][0]']              \n",
            "                                                                                                  \n",
            " conv2d_33 (Conv2D)             (None, 12, 12, 64)   32832       ['max_pooling2d_7[0][0]']        \n",
            "                                                                                                  \n",
            " concatenate_4 (Concatenate)    (None, 12, 12, 512)  0           ['conv2d_28[0][0]',              \n",
            "                                                                  'conv2d_30[0][0]',              \n",
            "                                                                  'conv2d_32[0][0]',              \n",
            "                                                                  'conv2d_33[0][0]']              \n",
            "                                                                                                  \n",
            " conv2d_35 (Conv2D)             (None, 12, 12, 144)  73872       ['concatenate_4[0][0]']          \n",
            "                                                                                                  \n",
            " conv2d_37 (Conv2D)             (None, 12, 12, 32)   16416       ['concatenate_4[0][0]']          \n",
            "                                                                                                  \n",
            " max_pooling2d_8 (MaxPooling2D)  (None, 12, 12, 512)  0          ['concatenate_4[0][0]']          \n",
            "                                                                                                  \n",
            " conv2d_34 (Conv2D)             (None, 12, 12, 112)  57456       ['concatenate_4[0][0]']          \n",
            "                                                                                                  \n",
            " conv2d_36 (Conv2D)             (None, 12, 12, 288)  373536      ['conv2d_35[0][0]']              \n",
            "                                                                                                  \n",
            " conv2d_38 (Conv2D)             (None, 12, 12, 64)   51264       ['conv2d_37[0][0]']              \n",
            "                                                                                                  \n",
            " conv2d_39 (Conv2D)             (None, 12, 12, 64)   32832       ['max_pooling2d_8[0][0]']        \n",
            "                                                                                                  \n",
            " concatenate_5 (Concatenate)    (None, 12, 12, 528)  0           ['conv2d_34[0][0]',              \n",
            "                                                                  'conv2d_36[0][0]',              \n",
            "                                                                  'conv2d_38[0][0]',              \n",
            "                                                                  'conv2d_39[0][0]']              \n",
            "                                                                                                  \n",
            " conv2d_42 (Conv2D)             (None, 12, 12, 160)  84640       ['concatenate_5[0][0]']          \n",
            "                                                                                                  \n",
            " conv2d_44 (Conv2D)             (None, 12, 12, 32)   16928       ['concatenate_5[0][0]']          \n",
            "                                                                                                  \n",
            " max_pooling2d_9 (MaxPooling2D)  (None, 12, 12, 528)  0          ['concatenate_5[0][0]']          \n",
            "                                                                                                  \n",
            " conv2d_41 (Conv2D)             (None, 12, 12, 256)  135424      ['concatenate_5[0][0]']          \n",
            "                                                                                                  \n",
            " conv2d_43 (Conv2D)             (None, 12, 12, 320)  461120      ['conv2d_42[0][0]']              \n",
            "                                                                                                  \n",
            " conv2d_45 (Conv2D)             (None, 12, 12, 128)  102528      ['conv2d_44[0][0]']              \n",
            "                                                                                                  \n",
            " conv2d_46 (Conv2D)             (None, 12, 12, 128)  67712       ['max_pooling2d_9[0][0]']        \n",
            "                                                                                                  \n",
            " concatenate_6 (Concatenate)    (None, 12, 12, 832)  0           ['conv2d_41[0][0]',              \n",
            "                                                                  'conv2d_43[0][0]',              \n",
            "                                                                  'conv2d_45[0][0]',              \n",
            "                                                                  'conv2d_46[0][0]']              \n",
            "                                                                                                  \n",
            " max_pooling2d_10 (MaxPooling2D  (None, 5, 5, 832)   0           ['concatenate_6[0][0]']          \n",
            " )                                                                                                \n",
            "                                                                                                  \n",
            " conv2d_48 (Conv2D)             (None, 5, 5, 160)    133280      ['max_pooling2d_10[0][0]']       \n",
            "                                                                                                  \n",
            " conv2d_50 (Conv2D)             (None, 5, 5, 32)     26656       ['max_pooling2d_10[0][0]']       \n",
            "                                                                                                  \n",
            " max_pooling2d_11 (MaxPooling2D  (None, 5, 5, 832)   0           ['max_pooling2d_10[0][0]']       \n",
            " )                                                                                                \n",
            "                                                                                                  \n",
            " conv2d_47 (Conv2D)             (None, 5, 5, 256)    213248      ['max_pooling2d_10[0][0]']       \n",
            "                                                                                                  \n",
            " conv2d_49 (Conv2D)             (None, 5, 5, 320)    461120      ['conv2d_48[0][0]']              \n",
            "                                                                                                  \n",
            " conv2d_51 (Conv2D)             (None, 5, 5, 128)    102528      ['conv2d_50[0][0]']              \n",
            "                                                                                                  \n",
            " conv2d_52 (Conv2D)             (None, 5, 5, 128)    106624      ['max_pooling2d_11[0][0]']       \n",
            "                                                                                                  \n",
            " concatenate_7 (Concatenate)    (None, 5, 5, 832)    0           ['conv2d_47[0][0]',              \n",
            "                                                                  'conv2d_49[0][0]',              \n",
            "                                                                  'conv2d_51[0][0]',              \n",
            "                                                                  'conv2d_52[0][0]']              \n",
            "                                                                                                  \n",
            " conv2d_54 (Conv2D)             (None, 5, 5, 192)    159936      ['concatenate_7[0][0]']          \n",
            "                                                                                                  \n",
            " conv2d_56 (Conv2D)             (None, 5, 5, 48)     39984       ['concatenate_7[0][0]']          \n",
            "                                                                                                  \n",
            " max_pooling2d_12 (MaxPooling2D  (None, 5, 5, 832)   0           ['concatenate_7[0][0]']          \n",
            " )                                                                                                \n",
            "                                                                                                  \n",
            " average_pooling2d (AveragePool  (None, 3, 3, 512)   0           ['concatenate_2[0][0]']          \n",
            " ing2D)                                                                                           \n",
            "                                                                                                  \n",
            " average_pooling2d_1 (AveragePo  (None, 3, 3, 528)   0           ['concatenate_5[0][0]']          \n",
            " oling2D)                                                                                         \n",
            "                                                                                                  \n",
            " conv2d_53 (Conv2D)             (None, 5, 5, 384)    319872      ['concatenate_7[0][0]']          \n",
            "                                                                                                  \n",
            " conv2d_55 (Conv2D)             (None, 5, 5, 384)    663936      ['conv2d_54[0][0]']              \n",
            "                                                                                                  \n",
            " conv2d_57 (Conv2D)             (None, 5, 5, 128)    153728      ['conv2d_56[0][0]']              \n",
            "                                                                                                  \n",
            " conv2d_58 (Conv2D)             (None, 5, 5, 128)    106624      ['max_pooling2d_12[0][0]']       \n",
            "                                                                                                  \n",
            " conv2d_21 (Conv2D)             (None, 3, 3, 128)    65664       ['average_pooling2d[0][0]']      \n",
            "                                                                                                  \n",
            " conv2d_40 (Conv2D)             (None, 3, 3, 128)    67712       ['average_pooling2d_1[0][0]']    \n",
            "                                                                                                  \n",
            " concatenate_8 (Concatenate)    (None, 5, 5, 1024)   0           ['conv2d_53[0][0]',              \n",
            "                                                                  'conv2d_55[0][0]',              \n",
            "                                                                  'conv2d_57[0][0]',              \n",
            "                                                                  'conv2d_58[0][0]']              \n",
            "                                                                                                  \n",
            " flatten (Flatten)              (None, 1152)         0           ['conv2d_21[0][0]']              \n",
            "                                                                                                  \n",
            " flatten_1 (Flatten)            (None, 1152)         0           ['conv2d_40[0][0]']              \n",
            "                                                                                                  \n",
            " GAPL (GlobalAveragePooling2D)  (None, 1024)         0           ['concatenate_8[0][0]']          \n",
            "                                                                                                  \n",
            " dense (Dense)                  (None, 1024)         1180672     ['flatten[0][0]']                \n",
            "                                                                                                  \n",
            " dense_2 (Dense)                (None, 1024)         1180672     ['flatten_1[0][0]']              \n",
            "                                                                                                  \n",
            " dropout_2 (Dropout)            (None, 1024)         0           ['GAPL[0][0]']                   \n",
            "                                                                                                  \n",
            " dropout (Dropout)              (None, 1024)         0           ['dense[0][0]']                  \n",
            "                                                                                                  \n",
            " dropout_1 (Dropout)            (None, 1024)         0           ['dense_2[0][0]']                \n",
            "                                                                                                  \n",
            " dense_4 (Dense)                (None, 1000)         1025000     ['dropout_2[0][0]']              \n",
            "                                                                                                  \n",
            " dense_1 (Dense)                (None, 5)            5125        ['dropout[0][0]']                \n",
            "                                                                                                  \n",
            " dense_3 (Dense)                (None, 1000)         1025000     ['dropout_1[0][0]']              \n",
            "                                                                                                  \n",
            "==================================================================================================\n",
            "Total params: 10,523,397\n",
            "Trainable params: 10,523,397\n",
            "Non-trainable params: 0\n",
            "__________________________________________________________________________________________________\n"
          ]
        }
      ],
      "source": [
        "model.summary()"
      ]
    },
    {
      "cell_type": "markdown",
      "metadata": {
        "id": "3dpdinq75tXJ"
      },
      "source": [
        "Mặc dù mô hình phức tạp để triển khai, số lượng tham số của toàn bộ mô hình không lớn. Các lớp Dense luôn chiếm phần lớn các tham số. Bên cạnh đó, sự xuất hiện của các lớp pooling trung bình toàn cục giúp giảm đáng kể số lượng tham số, do đó làm giảm độ phức tạp tính toán của mô hình."
      ]
    },
    {
      "cell_type": "markdown",
      "metadata": {
        "id": "A_BgBgzkqoSh"
      },
      "source": [
        "# IV. Kết luận\n",
        "Chúng em đã triển khai mô hình GoogLeNet trên nền tảng Keras. Nó bao gồm các khối Inception. Mỗi khối có một kiến ​​trúc đặc biệt, trong đó nó trích xuất đồng thời các đặc điểm đầu vào thông qua bốn đường dẫn song song. Bên cạnh đó, các lớp tích chập 1×1 được áp dụng tối đa trong các đường dẫn này để giảm chiều kênh. Hơn nữa, việc áp dụng lớp max-pooling giữa một số khối Inception đóng vai trò làm giảm độ phân giải, do đó làm giảm độ phức tạp tính toán. Tóm lại, số lượng tham số của mô hình này nhỏ hơn 6 lần so với mô hình Alexnet và nhỏ hơn nhiều so với mô hình VGG. Đặc biệt, nó vượt trội hơn các mô hình này. Kiến trúc thú vị này của GoogLeNet cũng là nguồn cảm hứng cho sự xuất hiện của các mô hình sau này"
      ]
    },
    {
      "cell_type": "markdown",
      "metadata": {
        "id": "eX9D9Rnp502r"
      },
      "source": [
        "**Tài liệu tham khảo:**\n",
        "\n",
        "[1] Szegedy, Christian, et al. “Going deeper with convolutions.” Proceedings of the IEEE conference on computer vision and pattern recognition. 2015."
      ]
    }
  ],
  "metadata": {
    "accelerator": "TPU",
    "colab": {
      "authorship_tag": "ABX9TyOr98mrlgolDSGMMAqB+kMS",
      "collapsed_sections": [],
      "include_colab_link": true,
      "machine_shape": "hm",
      "name": "Implementation of GoogLeNet on Keras.ipynb",
      "provenance": []
    },
    "kernelspec": {
      "display_name": "tf",
      "language": "python",
      "name": "python3"
    },
    "language_info": {
      "codemirror_mode": {
        "name": "ipython",
        "version": 3
      },
      "file_extension": ".py",
      "mimetype": "text/x-python",
      "name": "python",
      "nbconvert_exporter": "python",
      "pygments_lexer": "ipython3",
      "version": "3.9.18"
    }
  },
  "nbformat": 4,
  "nbformat_minor": 0
}
